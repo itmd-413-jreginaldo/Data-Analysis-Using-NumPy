{
 "cells": [
  {
   "cell_type": "markdown",
   "source": [
    "<h1>HW 7: Data Analysis Using NumPy\n",
    "<h3>Josh Reginaldo\n",
    "<h3>This program further explores the uses of the NumPy library and its uses"
   ],
   "metadata": {
    "collapsed": false
   }
  },
  {
   "cell_type": "markdown",
   "source": [
    "<h1>Indexing and Slicing Arrays\n",
    "<p>After creating an array with values range(1,16), the program will reshape it into a 3x5 array and perform the following operations:\n",
    "<ul>\n",
    "<li>Select row 2\n",
    "<li>Select column 4\n",
    "<li>Select rows 0 and 1\n",
    "<li>Select columns 2-4\n",
    "<li>Select element that is in row 1, column 4\n",
    "<li>Select all elements from rows 1-2, columns 0,2,4\n",
    "</ul>"
   ],
   "metadata": {
    "collapsed": false
   }
  },
  {
   "cell_type": "code",
   "execution_count": null,
   "outputs": [],
   "source": [],
   "metadata": {
    "collapsed": false
   }
  },
  {
   "cell_type": "markdown",
   "source": [
    "<h1>Applying NumPy\n",
    "<p>While using NumPy, this program will read a dataset within a provided .csv file and perform a variety of data manipulations using the data."
   ],
   "metadata": {
    "collapsed": false
   }
  },
  {
   "cell_type": "code",
   "execution_count": null,
   "outputs": [],
   "source": [],
   "metadata": {
    "collapsed": false
   }
  },
  {
   "cell_type": "markdown",
   "source": [],
   "metadata": {
    "collapsed": false
   }
  }
 ],
 "metadata": {
  "kernelspec": {
   "display_name": "Python 3",
   "language": "python",
   "name": "python3"
  },
  "language_info": {
   "codemirror_mode": {
    "name": "ipython",
    "version": 2
   },
   "file_extension": ".py",
   "mimetype": "text/x-python",
   "name": "python",
   "nbconvert_exporter": "python",
   "pygments_lexer": "ipython2",
   "version": "2.7.6"
  }
 },
 "nbformat": 4,
 "nbformat_minor": 0
}
